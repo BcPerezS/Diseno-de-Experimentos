{
  "cells": [
    {
      "cell_type": "markdown",
      "metadata": {
        "id": "view-in-github",
        "colab_type": "text"
      },
      "source": [
        "<a href=\"https://colab.research.google.com/github/BcPerezS/Diseno-de-Experimentos/blob/main/Taller_dise%C3%B1o.ipynb\" target=\"_parent\"><img src=\"https://colab.research.google.com/assets/colab-badge.svg\" alt=\"Open In Colab\"/></a>"
      ]
    },
    {
      "cell_type": "markdown",
      "source": [
        "\n",
        "\n",
        "Taller diseño de experimentos\n",
        "Universidad Nacional 2021-2\n",
        "Julian Serna Bryan Perez\n",
        "\n"
      ],
      "metadata": {
        "id": "QbCLY_ajXFv-"
      }
    },
    {
      "cell_type": "code",
      "execution_count": null,
      "metadata": {
        "id": "maZu0EDmjw4m",
        "colab": {
          "base_uri": "https://localhost:8080/"
        },
        "outputId": "e61548bb-f4f4-419b-8456-f393c76203dc"
      },
      "outputs": [
        {
          "metadata": {
            "tags": null
          },
          "name": "stdout",
          "output_type": "stream",
          "text": [
            "Collecting pingouin\n",
            "  Using cached pingouin-0.5.0.tar.gz (182 kB)\n",
            "Requirement already satisfied: numpy>=1.19 in /usr/local/lib/python3.7/dist-packages (from pingouin) (1.19.5)\n",
            "Collecting scipy>=1.7\n",
            "  Using cached scipy-1.7.3-cp37-cp37m-manylinux_2_12_x86_64.manylinux2010_x86_64.whl (38.1 MB)\n",
            "Requirement already satisfied: pandas>=1.0 in /usr/local/lib/python3.7/dist-packages (from pingouin) (1.3.5)\n",
            "Requirement already satisfied: matplotlib>=3.0.2 in /usr/local/lib/python3.7/dist-packages (from pingouin) (3.2.2)\n",
            "Requirement already satisfied: seaborn>=0.9.0 in /usr/local/lib/python3.7/dist-packages (from pingouin) (0.11.2)\n",
            "Collecting statsmodels>=0.12.0\n",
            "  Using cached statsmodels-0.13.2.tar.gz (17.9 MB)\n"
          ]
        }
      ],
      "source": [
        "!pip install pingouin\n",
        "from mpl_toolkits import mplot3d\n",
        "import numpy as np\n",
        "import pandas as pd\n",
        "import matplotlib.pyplot as plt\n",
        "import seaborn as sns\n",
        "import statsmodels.api as sm\n",
        "import pingouin as pg\n",
        "import random\n",
        "import scipy as sc\n",
        "import folium\n",
        "import statsmodels.api as sm\n",
        "import statsmodels.formula.api as smf\n",
        "import scipy.stats as st\n",
        "import seaborn as sns\n",
        "from scipy.spatial import distance_matrix\n",
        "from scipy.spatial.distance import cdist\n",
        " \n",
        "%matplotlib inline\n",
        "\n",
        "\n"
      ]
    },
    {
      "cell_type": "code",
      "source": [
        ""
      ],
      "metadata": {
        "id": "6eEJolq3bAC1"
      },
      "execution_count": null,
      "outputs": []
    },
    {
      "cell_type": "code",
      "source": [
        ""
      ],
      "metadata": {
        "id": "fYO1K--wbAZp"
      },
      "execution_count": null,
      "outputs": []
    },
    {
      "cell_type": "code",
      "execution_count": null,
      "metadata": {
        "id": "oUUvLq5tzU7B"
      },
      "outputs": [],
      "source": [
        "\n",
        "#(set.seed(1001280374)\n",
        "#Seqlat <- seq(from = -73.30, to = -73.25, by = .001)\n",
        "#Seqlong <- seq(from = 5.54, to = 5.58, by = .001)\n",
        "#Latitude <- sample(Seqlat, size = 100, replace = TRUE)\n",
        "#Longitude <- sample(Seqlong, size = 100, replace = TRUE)\n",
        "#xy <- data.frame(x = Longitude, y = Latitude)\n",
        "#plot(xy$x, xy%y)\n",
        "#SMI = sort.int(runif(100,0.7,0.95), partial = 10)\n",
        "#NDVI = sort.int(runif(100,0.45,0.06), partial = 10)\n",
        "#LST = sort.int(26*rbeta(100,shape1 = 0.87, shape2 = 0.91), partial = 10)\n",
        "#df1 = data.frame(xy, SMI, NDVI, LST))\n"
      ]
    },
    {
      "cell_type": "code",
      "execution_count": null,
      "metadata": {
        "id": "4I1mATYxwcrq"
      },
      "outputs": [],
      "source": [
        "#Pasando el código a python\n",
        "\n",
        "from numpy.ma.core import size\n",
        "np.random.seed(1001280374)\n",
        "Seqlat = np.arange(-73.30,-73.25,.001)\n",
        "Seqlong = np.arange(5.54, 5.58, .001)\n",
        "Latitude = pd.DataFrame.sample(pd.DataFrame(Seqlat), 100, replace = True)\n",
        "Latitude = list(Latitude[0])\n",
        "Longitude = pd.DataFrame.sample(pd.DataFrame(Seqlong), 100, replace = True)\n",
        "Longitude = list(Longitude[0])\n",
        "\n",
        "SMI= np.partition(np.random.uniform(0.7, 0.95, 100), 10)\n",
        "NDVI= np.partition(np.random.uniform(0.45, 0.06, 100), 10)\n",
        "LST= np.partition(26* sc.stats.beta.rvs(0.87, 0.91, size = 100), 10)\n",
        "\n",
        "df1 = pd.DataFrame({\"Lat\":Latitude, \"Lon\":Longitude, \"SMI\":SMI, \"NDVI\":NDVI, \"LST\":LST})\n",
        "df1[\"Posición\"] = np.arange(len(df1))\n",
        "\n",
        "print(df1.head())\n",
        "\n",
        "\n",
        "\n",
        "\n"
      ]
    },
    {
      "cell_type": "code",
      "execution_count": null,
      "metadata": {
        "id": "aKA1aikwN3es"
      },
      "outputs": [],
      "source": [
        "#Graficando nube de puntos (sólo coordenadas)\n",
        "plt.figure(figsize=(10,7))\n",
        "plt.plot(Longitude,Latitude,'o',markersize=3)\n",
        "plt.title('Coordenadas')\n",
        "plt.show()\n",
        "#Graficando tamaño de puntos de acuerdo con el SMI y el color de acuerdo al NDVI\n",
        "x = Longitude\n",
        "y = Latitude\n",
        "colors = NDVI\n",
        "sizes = SMI*20\n",
        "markers = LST\n",
        "plt.figure(figsize=(12,9))\n",
        "plt.scatter(x, y, c=colors, s=sizes, alpha= 0.6,\n",
        "            cmap='viridis')\n",
        "plt.title('Puntos ordenadas por coordenadas, SMI(tamaño de punto) y NDVI (Color)')\n",
        "plt.xlabel('Longitude')\n",
        "plt.ylabel('Latitude')\n",
        "plt.colorbar(); \n",
        "\n",
        "\n",
        "#Las coordenadas tienen una distribuci{on que concentra los puntos en la parte media-baja del gráfico, las variables son similares\n",
        "#Por lo que casi no hay un comportamiento marcado observable en los gráficos\n",
        "\n"
      ]
    },
    {
      "cell_type": "code",
      "source": [
        "#Graficando simbolos a partir del LST\n",
        "\n",
        "plt.scatter(df1[\"Lat\"], df1[\"Lon\"], marker=\",\", color= \"GREEN\", s=df1[\"LST\"])\n",
        "plt.show()\n"
      ],
      "metadata": {
        "id": "5k9BMLOA3c9O"
      },
      "execution_count": null,
      "outputs": []
    },
    {
      "cell_type": "code",
      "source": [
        "#Sobre el mapa de Colombia\n",
        "BBox = (df1.Lon.min(), df1.Lon.max(),      \n",
        "        df1.Lat.min(), df1.Lat.max() )\n",
        "\n",
        "ruh_m = plt.imread(r\"/content/map.png\")\n",
        "fig, ax = plt.subplots(figsize = (8,7))\n",
        "ax.scatter(df1.Lon, df1.Lat, zorder=1, alpha= 0.6, c='b', s=10)\n",
        "ax.set_title('Plotting Spatial Data on Colombia Map')\n",
        "ax.set_xlim(BBox[0],BBox[1])\n",
        "ax.set_ylim(BBox[2],BBox[3])\n",
        "ax.imshow(ruh_m, zorder=0, extent = BBox, aspect= 'equal')\n",
        "\n",
        "\n",
        "\n",
        "#Borrando los puntos\n",
        "Map = folium.Map(location = [5, -73],zoom_start = 6)\n",
        "for i in range(len(df1['Lat'])):\n",
        "    folium.Marker(\n",
        "        location = [df1['Lon'][i],df1['Lat'][i]],\n",
        "        popup = f'Lon: {df1[\"Lon\"][i]}, Lat: {df1[\"Lat\"][i]}',\n",
        "        icon = folium.Icon()\n",
        "    ).add_to(Map)\n",
        "Map"
      ],
      "metadata": {
        "id": "JmuQ9tEn5_7J"
      },
      "execution_count": null,
      "outputs": []
    },
    {
      "cell_type": "code",
      "source": [
        "#Boxplot SMI\n",
        "plt.style.use('ggplot')\n",
        "plt.boxplot(SMI, widths=(0.5))\n",
        "plt.title(\"SMI box plot\")\n",
        "plt.show()\n",
        "#El boxplot muestra una distribución uniforme de los datos"
      ],
      "metadata": {
        "id": "L8dntrVk546v"
      },
      "execution_count": null,
      "outputs": []
    },
    {
      "cell_type": "code",
      "source": [
        "#Histograma NDVI\n",
        "plt.style.use('ggplot')\n",
        "plt.hist(NDVI)\n",
        "plt.title(\"Histograma NDVI\")\n",
        "plt.show()\n",
        "#Hay una mayor concentración de datos más o menos cada 0.20 "
      ],
      "metadata": {
        "id": "_G3riMxp55tS"
      },
      "execution_count": null,
      "outputs": []
    },
    {
      "cell_type": "code",
      "source": [
        "\n",
        "#Densidad para LST\n",
        "sns.set_style('whitegrid')\n",
        "sns.kdeplot(LST)\n",
        "\n",
        "\n"
      ],
      "metadata": {
        "id": "fWFkjqbM5vMV"
      },
      "execution_count": null,
      "outputs": []
    },
    {
      "cell_type": "code",
      "source": [
        "#Estadísticas descriptivas de SMI, NDVI y LST\n",
        "\n",
        "average = ((df1['NDVI'].mean()), (df1['SMI'].mean()), (df1['LST'].mean()) )\n",
        "print(average)\n",
        "\n",
        "med = ((df1['NDVI'].median()), (df1['SMI'].median()), (df1['LST'].median()) )\n",
        "print(med)\n",
        "\n",
        "standard_deviation = ((df1['NDVI'].std()), (df1['SMI'].std()), (df1['LST'].std()) )\n",
        "print(standard_deviation)\n",
        "\n"
      ],
      "metadata": {
        "id": "FDNdEOzO5cF5"
      },
      "execution_count": null,
      "outputs": []
    },
    {
      "cell_type": "code",
      "execution_count": null,
      "metadata": {
        "id": "8g3PaRWexW1w"
      },
      "outputs": [],
      "source": [
        "#Fraccionando los datos en 4 cuadrantes\n",
        "\n",
        "I = df1.iloc[:25]\n",
        "II = df1.iloc[25:50]\n",
        "III = df1.iloc[50:75]\n",
        "IV = df1.iloc[75:]\n",
        "\n",
        "#Variables descriptivas de la latitud por cuadrante\n",
        "average = ((I['Lat'].mean()), (II['Lat'].mean()), (III['Lat'].mean()), (IV['Lat'].mean()) )\n",
        "print(average)\n",
        "\n",
        "med = ((I['Lat'].median()), (II['Lat'].median()), (III['Lat'].median()), (IV['Lat'].mean())  )\n",
        "print(med)\n",
        "\n",
        "standard_deviation = ((I['Lat'].std()), (II['Lat'].std()), (III['Lat'].std()), (IV['Lat'].std()) )\n",
        "print(standard_deviation)\n",
        "\n",
        "\n",
        "\n",
        "\n"
      ]
    },
    {
      "cell_type": "code",
      "execution_count": null,
      "metadata": {
        "id": "69GHTjCOwXH0"
      },
      "outputs": [],
      "source": [
        "#Boxplot SMI para los cuatro cuadrantes\n",
        "Data = ((I['SMI']), (II['SMI']), (III['SMI']), (IV['SMI']))\n",
        "plt.style.use('ggplot')\n",
        "fig = plt.figure(figsize =(10, 7))\n",
        "ax = fig.add_axes([0, 0, 1, 1])\n",
        "plt.title(\"SMI box plot para los cuatro cuadrantes\")\n",
        " \n",
        "bp = ax.boxplot(Data)\n",
        "\n",
        "plt.show()"
      ]
    },
    {
      "cell_type": "code",
      "execution_count": null,
      "metadata": {
        "id": "5GTLzgWgqvWV"
      },
      "outputs": [],
      "source": [
        "#Histograma múltiple de NDVI para los distintos cuadrantes\n",
        "Serie1= (I['NDVI'])\n",
        "Serie2= (II['NDVI'])\n",
        "Serie3= (III['NDVI'])\n",
        "Serie4= (IV['NDVI'])\n",
        "\n",
        "plt.style.use('ggplot')\n",
        "plt.hist(Serie1, label='I', alpha=.8, edgecolor='red')\n",
        "plt.hist(Serie2, label='II', alpha=.8, edgecolor='blue')\n",
        "plt.hist(Serie3, label='III', alpha=.8, edgecolor='black')\n",
        "plt.hist(Serie4, label='IV', alpha=.8, edgecolor='yellow')\n",
        "\n",
        "plt.title(\"Histograma NDVI para los cuatro cuadrantes\")\n",
        "plt.legend()\n",
        "plt.show()"
      ]
    },
    {
      "cell_type": "code",
      "execution_count": null,
      "metadata": {
        "id": "RnY-RTonqnoW"
      },
      "outputs": [],
      "source": [
        "#Gráfico de densidades para LST en cada cuadrante\n",
        " \n",
        "sns.set_style('whitegrid')\n",
        "g=sns.distplot((I['LST']),hist=False, color = \"red\", label = 'I')\n",
        "sns.distplot((II['LST']), hist=False, color = \"blue\", label = 'II')\n",
        "sns.distplot((III['LST']), hist=False, color = \"green\", label = 'III')\n",
        "sns.distplot((IV['LST']), hist=False, color = \"black\", label = 'IV')\n",
        "g.legend()"
      ]
    },
    {
      "cell_type": "code",
      "execution_count": null,
      "metadata": {
        "id": "2W8AMqZ1qef0"
      },
      "outputs": [],
      "source": [
        "#Matriz de correlacion de Pearson\n",
        "matriz= df1.corr()\n",
        "matrizI =I.corr()\n",
        "matrizII=II.corr()\n",
        "matrizIII=III.corr()\n",
        "matrizIV=IV.corr()\n",
        "\n",
        "\n",
        "\n",
        "#Grafico de Correlacion\n",
        "plt.matshow(matriz,cmap=\"bwr\",vmin=-1, vmax=1)\n",
        "plt.xticks(range(5),df1.columns)\n",
        "plt.yticks(range(5),df1.columns)\n",
        "for i in range(len(matriz.columns)):\n",
        "  for j in range(len(matriz.columns)):\n",
        "    plt.text(i, j, round(matriz.iloc[i,j],2),\n",
        "             ha=\"center\",va=\"center\")\n",
        "plt.colorbar()\n",
        "plt.show()\n",
        "\n",
        "\n",
        "\n"
      ]
    },
    {
      "cell_type": "code",
      "source": [
        "#Fraccionando grafico\n",
        "# I\n",
        "CorI= plt.matshow(matrizI,cmap=\"bwr\",vmin=-1, vmax=1)\n",
        "plt.xticks(range(5),df1.columns)\n",
        "plt.yticks(range(5),df1.columns)\n",
        "for i in range(len(matrizI.columns)):\n",
        "  for j in range(len(matrizI.columns)):\n",
        "    plt.text(i, j, round(matrizI.iloc[i,j],2),\n",
        "             ha=\"center\",va=\"center\")\n",
        "plt.colorbar()\n",
        "plt.show()"
      ],
      "metadata": {
        "id": "tvp3KI4wau93"
      },
      "execution_count": null,
      "outputs": []
    },
    {
      "cell_type": "code",
      "source": [
        "# II\n",
        "CorII= plt.matshow(matrizII,cmap=\"bwr\",vmin=-1, vmax=1)\n",
        "plt.xticks(range(5),df1.columns)\n",
        "plt.yticks(range(5),df1.columns)\n",
        "for i in range(len(matrizII.columns)):\n",
        "  for j in range(len(matrizII.columns)):\n",
        "    plt.text(i, j, round(matrizII.iloc[i,j],2),\n",
        "             ha=\"center\",va=\"center\")\n",
        "plt.colorbar()\n",
        "plt.show()"
      ],
      "metadata": {
        "id": "OdwclsN7anv-"
      },
      "execution_count": null,
      "outputs": []
    },
    {
      "cell_type": "code",
      "source": [
        "#III\n",
        "CorIII= plt.matshow(matrizIII,cmap=\"bwr\",vmin=-1, vmax=1)\n",
        "plt.xticks(range(5),df1.columns)\n",
        "plt.yticks(range(5),df1.columns)\n",
        "for i in range(len(matrizIII.columns)):\n",
        "  for j in range(len(matrizIII.columns)):\n",
        "    plt.text(i, j, round(matrizIII.iloc[i,j],2),\n",
        "             ha=\"center\",va=\"center\")\n",
        "plt.colorbar()\n",
        "plt.show()"
      ],
      "metadata": {
        "id": "kgEfRznlafke"
      },
      "execution_count": null,
      "outputs": []
    },
    {
      "cell_type": "code",
      "source": [
        "# IV\n",
        "CorIV=plt.matshow(matrizIV,cmap=\"bwr\",vmin=-1, vmax=1)\n",
        "plt.xticks(range(5),df1.columns)\n",
        "plt.yticks(range(5),df1.columns)\n",
        "for i in range(len(matrizIV.columns)):\n",
        "  for j in range(len(matrizIV.columns)):\n",
        "    plt.text(i, j, round(matrizIV.iloc[i,j],2),\n",
        "             ha=\"center\",va=\"center\")\n",
        "plt.colorbar()\n",
        "plt.show()"
      ],
      "metadata": {
        "id": "778aPmo3aZ56"
      },
      "execution_count": null,
      "outputs": []
    },
    {
      "cell_type": "code",
      "source": [
        "#Grafico de Correlacion\n",
        "fig=plt.figure(figsize=[12,12])\n",
        "ax1=fig.add_subplot (2,2,1)\n",
        "ax2=fig.add_subplot (2,2,2)\n",
        "ax3=fig.add_subplot (2,2,3)\n",
        "ax4=fig.add_subplot(2,2,4)\n",
        "\n",
        "sns.heatmap  (matrizI, annot=True, ax=ax1, square=True, cbar_kws={\"shrink\":.3})\n",
        "sns.heatmap (matrizII, annot=True, ax=ax2, square=True, cbar_kws={\"shrink\":.3})\n",
        "sns.heatmap(matrizIII, annot=True, ax=ax3, square=True, cbar_kws={\"shrink\":.3})\n",
        "sns.heatmap (matrizIV, annot=True, ax=ax4, square=True, cbar_kws={\"shrink\":.3})\n"
      ],
      "metadata": {
        "id": "-SIbUUSqoWKi"
      },
      "execution_count": null,
      "outputs": []
    },
    {
      "cell_type": "code",
      "source": [
        ""
      ],
      "metadata": {
        "id": "dDjPjr5bC_7o"
      },
      "execution_count": null,
      "outputs": []
    },
    {
      "cell_type": "code",
      "source": [
        ""
      ],
      "metadata": {
        "id": "crvo7O01oitW"
      },
      "execution_count": null,
      "outputs": []
    },
    {
      "cell_type": "code",
      "source": [
        "#Regresion lineal simple NDVI(respuesta) y LST\n",
        "df1\n",
        "plt.ylabel(\"NDVI\")\n",
        "plt.xlabel(\"LST\")\n",
        "plt.scatter(df1[\"LST\"],df1[\"NDVI\"],color=\"Red\")\n",
        "plt.show()\n",
        "\n",
        "##\n",
        "from sklearn import linear_model\n",
        "regresion= linear_model.LinearRegression()\n",
        "VectorLST=df1[\"LST\"].values.reshape((-1,1))\n",
        "modelo = regresion.fit(VectorLST,df1[\"NDVI\"])\n",
        "print(\"Interseccion(b)\",modelo.intercept_)\n",
        "print(\"Pendiente (m)\",modelo.coef_)\n",
        "\n",
        "# Predicciones con diferentes valores de LST( 0, 7,11,16,19,27,30)\n",
        "ValoresLST =[[0],[7],[11],[16],[19],[27],[30]]\n",
        "modelo.predict(ValoresLST)\n",
        "\n",
        "##\n",
        "plt.scatter(ValoresLST, modelo.predict(ValoresLST), color=\"Black\")\n",
        "plt.plot(ValoresLST, modelo.predict(ValoresLST),color=\"Blue\")\n",
        "plt.ylabel(\"NDVI\")\n",
        "plt.xlabel(\"LST\")\n",
        "plt.scatter(df1[\"LST\"],df1[\"NDVI\"],color=\"Red\")\n",
        "plt.show()"
      ],
      "metadata": {
        "id": "4GvLyVzONI9l"
      },
      "execution_count": null,
      "outputs": []
    },
    {
      "cell_type": "code",
      "source": [
        "#Regresion lineal multiple entre NDVI vs LST y SMI\n",
        "\n",
        "Multiple = smf.ols(\"NDVI ~ LST + SMI\",df1)\n",
        "result= Multiple.fit()\n",
        "result.summary()\n"
      ],
      "metadata": {
        "id": "yuUM6EzbS57t"
      },
      "execution_count": null,
      "outputs": []
    },
    {
      "cell_type": "code",
      "source": [
        "## Muestra del 80 %\n",
        "\n",
        "df80= df1.sample(frac=.8)\n",
        "I80 =I.sample(frac=.8)\n",
        "II80=II.sample(frac=.8)\n",
        "III80=III.sample(frac=.8)\n",
        "IV80=IV.sample(frac=.8)\n",
        "\n",
        "#Matriz\n",
        "matriz8= df80.corr()\n",
        "matrizI8 =I80.corr()\n",
        "matrizII8=II80.corr()\n",
        "matrizIII8=III80.corr()\n",
        "matrizIV8=IV80.corr()\n"
      ],
      "metadata": {
        "id": "47VjqTArYMaL"
      },
      "execution_count": null,
      "outputs": []
    },
    {
      "cell_type": "code",
      "source": [
        "#Fraccionando grafico 80%\n",
        "\n",
        "Cor8= plt.matshow(matriz8,cmap=\"bwr\",vmin=-1, vmax=1)\n",
        "plt.xticks(range(5),df80.columns)\n",
        "plt.yticks(range(5),df80.columns)\n",
        "for i in range(len(matriz8.columns)):\n",
        "  for j in range(len(matriz8.columns)):\n",
        "    plt.text(i, j, round(matriz8.iloc[i,j],2),\n",
        "             ha=\"center\",va=\"center\")\n",
        "\n",
        "plt.colorbar()\n",
        "plt.show()\n",
        "# I\n",
        "Cor8I= plt.matshow(matrizI8,cmap=\"bwr\",vmin=-1, vmax=1)\n",
        "plt.xticks(range(5),df80.columns)\n",
        "plt.yticks(range(5),df80.columns)\n",
        "for i in range(len(matrizI8.columns)):\n",
        "  for j in range(len(matrizI8.columns)):\n",
        "    plt.text(i, j, round(matrizI8.iloc[i,j],2),\n",
        "             ha=\"center\",va=\"center\")\n",
        "\n",
        "\n",
        "plt.colorbar()\n",
        "plt.show()\n",
        "#II    \n",
        "Cor8II= plt.matshow(matrizII8,cmap=\"bwr\",vmin=-1, vmax=1)\n",
        "plt.xticks(range(5),df80.columns)\n",
        "plt.yticks(range(5),df80.columns)\n",
        "for i in range(len(matrizII8.columns)):\n",
        "  for j in range(len(matrizII8.columns)):\n",
        "    plt.text(i, j, round(matrizII8.iloc[i,j],2),\n",
        "             ha=\"center\",va=\"center\")\n",
        "\n",
        "plt.colorbar()\n",
        "plt.show()\n",
        "#III\n",
        "Cor8III= plt.matshow(matrizIII8,cmap=\"bwr\",vmin=-1, vmax=1)\n",
        "plt.xticks(range(5),df80.columns)\n",
        "plt.yticks(range(5),df80.columns)\n",
        "for i in range(len(matrizIII8.columns)):\n",
        "  for j in range(len(matrizIII8.columns)):\n",
        "    plt.text(i, j, round(matrizIII8.iloc[i,j],2),\n",
        "             ha=\"center\",va=\"center\")\n",
        "\n",
        "plt.colorbar()\n",
        "plt.show()\n",
        "# IV\n",
        "Cor8IV=plt.matshow(matrizIV8,cmap=\"bwr\",vmin=-1, vmax=1)\n",
        "plt.xticks(range(5),df80.columns)\n",
        "plt.yticks(range(5),df80.columns)\n",
        "for i in range(len(matrizIV8.columns)):\n",
        "  for j in range(len(matrizIV8.columns)):\n",
        "    plt.text(i, j, round(matrizIV8.iloc[i,j],2),\n",
        "             ha=\"center\",va=\"center\")\n",
        "\n",
        "plt.colorbar()\n",
        "plt.show()\n",
        "\n",
        "\n",
        "\n"
      ],
      "metadata": {
        "id": "qOFEJeylnX0R"
      },
      "execution_count": null,
      "outputs": []
    },
    {
      "cell_type": "code",
      "source": [
        "#Grafico de Correlacion\n",
        "fig=plt.figure(figsize=[12,12])\n",
        "ax1=fig.add_subplot (2,2,1)\n",
        "ax2=fig.add_subplot (2,2,2)\n",
        "\n",
        "sns.heatmap  (matriz, annot=True, ax=ax1, square=True, cbar_kws={\"shrink\":.3})\n",
        "sns.heatmap (matriz8, annot=True, ax=ax2, square=True, cbar_kws={\"shrink\":.3})\n"
      ],
      "metadata": {
        "id": "Ag5de7SDnWrr"
      },
      "execution_count": null,
      "outputs": []
    },
    {
      "cell_type": "code",
      "source": [
        "fig=plt.figure(figsize=[12,12])\n",
        "ax3=fig.add_subplot (2,2,3)\n",
        "ax4=fig.add_subplot(2,2,4)\n",
        "ax5=fig.add_subplot (2,2,1)\n",
        "ax6=fig.add_subplot (2,2,2)\n",
        "sns.heatmap  (matrizI, annot=True, ax=ax3, square=True, cbar_kws={\"shrink\":.3})\n",
        "sns.heatmap  (matrizI8, annot=True, ax=ax4, square=True, cbar_kws={\"shrink\":.3})\n",
        "sns.heatmap (matrizII, annot=True, ax=ax5, square=True, cbar_kws={\"shrink\":.3})\n",
        "sns.heatmap (matrizII8, annot=True, ax=ax6, square=True, cbar_kws={\"shrink\":.3})\n"
      ],
      "metadata": {
        "id": "SOG80m6wwFyW"
      },
      "execution_count": null,
      "outputs": []
    },
    {
      "cell_type": "code",
      "source": [
        "fig=plt.figure(figsize=[12,12])\n",
        "ax7=fig.add_subplot (2,2,3)\n",
        "ax8=fig.add_subplot(2,2,4)\n",
        "ax9=fig.add_subplot (2,2,1)\n",
        "ax10=fig.add_subplot (2,2,2)\n",
        "sns.heatmap(matrizIII, annot=True, ax=ax7, square=True, cbar_kws={\"shrink\":.3})\n",
        "sns.heatmap(matrizIII8, annot=True, ax=ax8, square=True, cbar_kws={\"shrink\":.3})\n",
        "sns.heatmap (matrizIV, annot=True, ax=ax9, square=True, cbar_kws={\"shrink\":.3})\n",
        "sns.heatmap (matrizIV8, annot=True, ax=ax10, square=True, cbar_kws={\"shrink\":.3})\n"
      ],
      "metadata": {
        "id": "Aj4L5AGlwOd1"
      },
      "execution_count": null,
      "outputs": []
    },
    {
      "cell_type": "code",
      "source": [
        "## Grafico 3D para variables ambientales\n",
        "\n",
        "z = df1.LST\n",
        "x = df1.NDVI\n",
        "y = df1.SMI\n",
        " \n",
        "fig = plt.figure(figsize = (16, 9))\n",
        "ax = plt.axes(projection =\"3d\")\n",
        "   \n",
        "ax.grid(b = True, color ='grey',\n",
        "        linestyle ='-.', linewidth = 0.3,\n",
        "        alpha = 0.2)\n",
        " \n",
        "\n",
        "my_cmap = plt.get_cmap('hsv')\n",
        " \n",
        "sctt = ax.scatter3D(x, y, z,\n",
        "                    alpha = 0.8,\n",
        "                    c = (x + y + z),\n",
        "                    cmap = my_cmap,\n",
        "                    marker ='^')\n",
        " \n",
        "plt.title(\"Gráfico 3D para variables ambientales\")\n",
        "ax.set_xlabel('NDVI', fontweight ='bold')\n",
        "ax.set_ylabel('SMI', fontweight ='bold')\n",
        "ax.set_zlabel('LST', fontweight ='bold')\n",
        "\n",
        " \n",
        "\n",
        "plt.show()\n",
        "\n"
      ],
      "metadata": {
        "id": "votSoWvP2XZI"
      },
      "execution_count": null,
      "outputs": []
    },
    {
      "cell_type": "code",
      "source": [
        "## Grafico 3D para variables ambientales con color por cuadrante\n",
        "\n",
        " \n",
        "fig = plt.figure(figsize = (16, 9))\n",
        "\n",
        "ax = fig.add_subplot(111,projection='3d')\n",
        "\n",
        "\n",
        "ax.scatter(I.NDVI,I.SMI,I.LST,c='r',marker='o',s=35,label='I')\n",
        "ax.scatter(II.NDVI,II.SMI,II.LST,c='y',marker='o',s=35,label='II')\n",
        "ax.scatter(III.NDVI,III.SMI,III.LST,c='b',marker='o',s=35,label='III')\n",
        "ax.scatter(IV.NDVI,IV.SMI,IV.LST,c='g',marker='o',s=35,label='IV')\n",
        "\n",
        "plt.title(\"Gráfico 3D para variables ambientales según su cuadrante\")\n",
        "ax.set_xlabel('NDVI', fontweight ='bold')\n",
        "ax.set_ylabel('SMI', fontweight ='bold')\n",
        "ax.set_zlabel('LST', fontweight ='bold')\n",
        "\n",
        "\n",
        "ax.legend(scatterpoints=1)\n",
        "plt.show()\n",
        "\n",
        "\n"
      ],
      "metadata": {
        "id": "MD37HDQJX3I3"
      },
      "execution_count": null,
      "outputs": []
    },
    {
      "cell_type": "code",
      "source": [
        "#Matriz de Distancias con todas las coordenadas\n",
        "df_array = df1[[\"Lon\", \"Lat\"]].to_numpy()\n",
        "dist_mat = cdist(df_array, df_array, \"euclidean\")\n",
        "df3=pd.DataFrame(dist_mat, columns = df1[\"Posición\"], index = df1[\"Posición\"])\n",
        "print(df3)\n",
        "\n",
        "\n",
        "\n",
        "\n"
      ],
      "metadata": {
        "id": "7CS1xllXd9a4"
      },
      "execution_count": null,
      "outputs": []
    },
    {
      "cell_type": "code",
      "source": [
        "#Centroide de la matriz\n",
        "def Centroid(dist_mat):\n",
        "    length = df_array.shape[0]\n",
        "    sum_x = np.sum(df_array[:, 0])\n",
        "    sum_y = np.sum(df_array[:, 1])\n",
        "    return sum_x/length, sum_y/length\n",
        "\n",
        "centroide = Centroid(np.array(dist_mat))\n",
        "print(centroide)\n",
        "\n",
        "plt.plot(df1[\"Lon\"], df1[\"Lat\"], \"go\" )\n",
        "plt.scatter(centroide[0], centroide[1], c=\"r\")\n",
        "plt.show()"
      ],
      "metadata": {
        "id": "uYxyh_7TX1bA"
      },
      "execution_count": null,
      "outputs": []
    },
    {
      "cell_type": "code",
      "source": [
        "#Máxima distancia de matriz\n",
        "func = []\n",
        "for i in range(100):\n",
        "  func.append(max(dist_mat[i]))\n",
        "max(func)\n",
        "radius=max(func)*2/3\n",
        "print(radius)\n"
      ],
      "metadata": {
        "id": "qG6zC3tpXj0t"
      },
      "execution_count": null,
      "outputs": []
    },
    {
      "cell_type": "code",
      "source": [
        "# Seleccionando y encerrando los puntos en un radio de 2/3 la distancia máxima\n",
        "\n",
        "fig, ax = plt.subplots()\n",
        "ax.plot(df1[\"Lon\"], df1[\"Lat\"], \"go\")\n",
        "plt.scatter(centroide[0], centroide[1], c=\"r\")\n",
        "circle = plt.Circle((centroide[0], centroide[1]),radius, alpha=0.8, fc='yellow')\n",
        "ax.add_patch(circle)"
      ],
      "metadata": {
        "id": "e33XKfZuSxtd"
      },
      "execution_count": null,
      "outputs": []
    },
    {
      "cell_type": "code",
      "source": [
        "#Tomando muestras de tamaño 10 de cada cuadrante para crear un data frame de 40 filas\n",
        "\n",
        "MI= I.sample(n=10, random_state=1)\n",
        "MII= II.sample(n=10, random_state=1)\n",
        "MIII= III.sample(n=10, random_state=1)\n",
        "MIV= IV.sample(n=10, random_state=1)\n",
        "\n",
        "frames = [MI, MII, MIII, MIV]\n",
        "\n",
        "result = pd.concat(frames)\n",
        "result[\"Posición\"] = np.arange(len(result))\n",
        "\n",
        "conditions = [\n",
        "    (result['Posición'] <= 9),\n",
        "    (result['Posición'] > 9) & (result['Posición'] <= 19),\n",
        "    (result['Posición'] > 19) & (result['Posición'] <= 29),\n",
        "    (result['Posición'] > 29)\n",
        "    ]\n",
        "\n",
        "values = ['I', 'II', 'III', 'IV']\n",
        "result['Cuadrante'] = np.select(conditions, values)\n",
        "\n",
        "\n",
        "\n",
        "print(result)\n"
      ],
      "metadata": {
        "id": "rLHcAO-9Sl-E"
      },
      "execution_count": null,
      "outputs": []
    },
    {
      "cell_type": "code",
      "source": [
        "#Analisis de Varianza para SMI por cuadrante\n",
        "\n",
        "pg.anova(data=result, dv='SMI', between=['Cuadrante'], detailed= True).round(4)"
      ],
      "metadata": {
        "id": "HJReI_QdSZNN"
      },
      "execution_count": null,
      "outputs": []
    },
    {
      "cell_type": "code",
      "source": [
        "pg.anova(data=result, dv='SMI', between=['Cuadrante','Posición'], detailed= True).round(4)"
      ],
      "metadata": {
        "id": "zzN1T1jJRETC"
      },
      "execution_count": null,
      "outputs": []
    },
    {
      "cell_type": "code",
      "source": [
        "from statsmodels.formula.api import ols\n",
        "anova = sm.stats.anova_lm(\"Cuadrante\")"
      ],
      "metadata": {
        "id": "NPG41ylWklrc"
      },
      "execution_count": null,
      "outputs": []
    },
    {
      "cell_type": "code",
      "source": [
        ""
      ],
      "metadata": {
        "id": "8cpqj_eYMi6X"
      },
      "execution_count": null,
      "outputs": []
    },
    {
      "cell_type": "code",
      "source": [
        ""
      ],
      "metadata": {
        "id": "vTddVSMLq9M_"
      },
      "execution_count": null,
      "outputs": []
    },
    {
      "cell_type": "code",
      "source": [
        ""
      ],
      "metadata": {
        "id": "_cWWll_GQ15d"
      },
      "execution_count": null,
      "outputs": []
    },
    {
      "cell_type": "code",
      "source": [
        ""
      ],
      "metadata": {
        "id": "iCNVWGO_Qxul"
      },
      "execution_count": null,
      "outputs": []
    },
    {
      "cell_type": "code",
      "source": [
        ""
      ],
      "metadata": {
        "id": "GVPxEDTPQghp"
      },
      "execution_count": null,
      "outputs": []
    },
    {
      "cell_type": "code",
      "source": [
        ""
      ],
      "metadata": {
        "id": "CIwwyf9QQKWd"
      },
      "execution_count": null,
      "outputs": []
    },
    {
      "cell_type": "code",
      "source": [
        ""
      ],
      "metadata": {
        "id": "FTO-LwXcQHUM"
      },
      "execution_count": null,
      "outputs": []
    },
    {
      "cell_type": "code",
      "source": [
        ""
      ],
      "metadata": {
        "id": "PmkD1mEUQCfp"
      },
      "execution_count": null,
      "outputs": []
    },
    {
      "cell_type": "code",
      "source": [
        ""
      ],
      "metadata": {
        "id": "uSlWqnLXP00t"
      },
      "execution_count": null,
      "outputs": []
    },
    {
      "cell_type": "code",
      "source": [
        ""
      ],
      "metadata": {
        "id": "9hVonyTvPy-D"
      },
      "execution_count": null,
      "outputs": []
    },
    {
      "cell_type": "code",
      "source": [
        ""
      ],
      "metadata": {
        "id": "Eil8BXLqPwuF"
      },
      "execution_count": null,
      "outputs": []
    },
    {
      "cell_type": "code",
      "source": [
        ""
      ],
      "metadata": {
        "id": "s8G8ehxMPuPi"
      },
      "execution_count": null,
      "outputs": []
    },
    {
      "cell_type": "code",
      "source": [
        ""
      ],
      "metadata": {
        "id": "oISfML7NPFK0"
      },
      "execution_count": null,
      "outputs": []
    },
    {
      "cell_type": "code",
      "source": [
        ""
      ],
      "metadata": {
        "id": "QNGtY7GXM9Ob"
      },
      "execution_count": null,
      "outputs": []
    },
    {
      "cell_type": "code",
      "source": [
        ""
      ],
      "metadata": {
        "id": "zQ1Jg63FM0FE"
      },
      "execution_count": null,
      "outputs": []
    },
    {
      "cell_type": "code",
      "source": [
        ""
      ],
      "metadata": {
        "id": "7El4SWBdMHQM"
      },
      "execution_count": null,
      "outputs": []
    },
    {
      "cell_type": "code",
      "source": [
        ""
      ],
      "metadata": {
        "id": "lW_A_5HRLxni"
      },
      "execution_count": null,
      "outputs": []
    },
    {
      "cell_type": "code",
      "source": [
        ""
      ],
      "metadata": {
        "id": "V2kMB_M0Llvo"
      },
      "execution_count": null,
      "outputs": []
    },
    {
      "cell_type": "code",
      "source": [
        ""
      ],
      "metadata": {
        "id": "T5kYeiMSLdVO"
      },
      "execution_count": null,
      "outputs": []
    },
    {
      "cell_type": "code",
      "source": [
        ""
      ],
      "metadata": {
        "id": "HS8e-5RpLSX2"
      },
      "execution_count": null,
      "outputs": []
    },
    {
      "cell_type": "code",
      "source": [
        ""
      ],
      "metadata": {
        "id": "Hu1e4fN0LE-9"
      },
      "execution_count": null,
      "outputs": []
    },
    {
      "cell_type": "code",
      "source": [
        ""
      ],
      "metadata": {
        "id": "gFZo7h2fK4IN"
      },
      "execution_count": null,
      "outputs": []
    },
    {
      "cell_type": "code",
      "source": [
        ""
      ],
      "metadata": {
        "id": "2Lc0XYFNKo_N"
      },
      "execution_count": null,
      "outputs": []
    },
    {
      "cell_type": "code",
      "source": [
        ""
      ],
      "metadata": {
        "id": "skgFuBbcJlTP"
      },
      "execution_count": null,
      "outputs": []
    },
    {
      "cell_type": "code",
      "execution_count": null,
      "metadata": {
        "id": "GUC1z2fEqVXA"
      },
      "outputs": [],
      "source": [
        ""
      ]
    },
    {
      "cell_type": "code",
      "execution_count": null,
      "metadata": {
        "id": "HqrhstTvpKco"
      },
      "outputs": [],
      "source": [
        ""
      ]
    },
    {
      "cell_type": "code",
      "execution_count": null,
      "metadata": {
        "id": "dI4u-HTgpGWp"
      },
      "outputs": [],
      "source": [
        ""
      ]
    },
    {
      "cell_type": "code",
      "execution_count": null,
      "metadata": {
        "id": "i_BG6kP8pCAR"
      },
      "outputs": [],
      "source": [
        ""
      ]
    },
    {
      "cell_type": "code",
      "execution_count": null,
      "metadata": {
        "id": "Vz84Qt83oapV"
      },
      "outputs": [],
      "source": [
        ""
      ]
    }
  ],
  "metadata": {
    "colab": {
      "name": "Taller diseño",
      "provenance": [],
      "include_colab_link": true
    },
    "kernelspec": {
      "display_name": "Python 3",
      "name": "python3"
    },
    "language_info": {
      "name": "python"
    }
  },
  "nbformat": 4,
  "nbformat_minor": 0
}